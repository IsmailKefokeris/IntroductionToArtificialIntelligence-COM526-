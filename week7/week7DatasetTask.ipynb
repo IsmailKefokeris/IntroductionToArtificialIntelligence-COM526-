{
 "cells": [
  {
   "cell_type": "code",
   "execution_count": 1,
   "id": "18d3ad19",
   "metadata": {},
   "outputs": [],
   "source": [
    "# Assigned features and label variables \n",
    "weather=['Sunny','Sunny','Overcast','Rainy','Rainy','Rainy','Overcast','Sunny','Sunny',\n",
    "'Rainy','Sunny','Overcast','Overcast','Rainy']\n",
    "\n",
    "temp=['Hot','Hot','Hot','Mild','Cool','Cool','Cool','Mild','Cool','Mild','Mild','Mild','Hot','Mild']\n",
    "\n",
    "play=['No','No','Yes','Yes','Yes','No','Yes','No','Yes','Yes','Yes','Yes','Yes','No']"
   ]
  },
  {
   "cell_type": "code",
   "execution_count": 2,
   "id": "1fe7c74b",
   "metadata": {},
   "outputs": [
    {
     "name": "stdout",
     "output_type": "stream",
     "text": [
      "[2 2 0 1 1 1 0 2 2 1 2 0 0 1]\n"
     ]
    }
   ],
   "source": [
    "# Imports preprocessing from sklearn which allows for Label enconding\n",
    "from sklearn import preprocessing\n",
    "\n",
    "# creating the label encoder\n",
    "le = preprocessing.LabelEncoder()\n",
    "\n",
    "# Converting strings from features into numbers \n",
    "weather_encoded = le.fit_transform(weather)\n",
    "\n",
    "print(weather_encoded)\n"
   ]
  },
  {
   "cell_type": "code",
   "execution_count": 3,
   "id": "bd58e9cd",
   "metadata": {},
   "outputs": [
    {
     "name": "stdout",
     "output_type": "stream",
     "text": [
      "[(2, 1), (2, 1), (0, 1), (1, 2), (1, 0), (1, 0), (0, 0), (2, 2), (2, 0), (1, 2), (2, 2), (0, 2), (0, 1), (1, 2)]\n"
     ]
    }
   ],
   "source": [
    "temp_encoded = le.fit_transform(temp)\n",
    "play_encoded = le.fit_transform(play)\n",
    "\n",
    "# Zipping and connecting the features (weather and temp)\n",
    "cf = zip(weather_encoded, temp_encoded)\n",
    "# converting the zip object into a list (allowing us to print it)\n",
    "combined_features = list(cf)\n",
    "\n",
    "print(combined_features)"
   ]
  },
  {
   "cell_type": "code",
   "execution_count": 5,
   "id": "04d00725",
   "metadata": {},
   "outputs": [
    {
     "name": "stdout",
     "output_type": "stream",
     "text": [
      "Predicted  [1]\n"
     ]
    }
   ],
   "source": [
    "# Importing Gaussian Naive Bayes Model\n",
    "from sklearn.naive_bayes import GaussianNB\n",
    "\n",
    "# creating the model\n",
    "model = GaussianNB()\n",
    "\n",
    "# Training model\n",
    "model.fit(combined_features, play_encoded)\n",
    "\n",
    "# Predict output\n",
    "predicted = model.predict([[0,2]]) # 0 = overcast, 2 = Mild\n",
    "print(\"Predicted \", predicted)"
   ]
  },
  {
   "cell_type": "code",
   "execution_count": null,
   "id": "353d1109",
   "metadata": {},
   "outputs": [],
   "source": []
  }
 ],
 "metadata": {
  "kernelspec": {
   "display_name": "Python 3",
   "language": "python",
   "name": "python3"
  },
  "language_info": {
   "codemirror_mode": {
    "name": "ipython",
    "version": 3
   },
   "file_extension": ".py",
   "mimetype": "text/x-python",
   "name": "python",
   "nbconvert_exporter": "python",
   "pygments_lexer": "ipython3",
   "version": "3.8.8"
  }
 },
 "nbformat": 4,
 "nbformat_minor": 5
}
